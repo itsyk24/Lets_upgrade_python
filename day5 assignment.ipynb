{
 "cells": [
  {
   "cell_type": "code",
   "execution_count": 12,
   "metadata": {},
   "outputs": [
    {
     "name": "stdout",
     "output_type": "stream",
     "text": [
      "[1, 1, 1, 2, 2, 3, 4, 4, 4, 10, 56, 56, 0, 0, 0, 0]\n"
     ]
    }
   ],
   "source": [
    "#Question1-->[0,1,2,10,4,1,4,56,2,0,1,3,0,56,0,4]\n",
    "#Sort by increasing order but all zeros should be at the right hand side\n",
    "\n",
    "\n",
    "\n",
    "\n",
    "arr = [0,1,2,10,4,1,4,56,2,0,1,3,0,56,0,4] \n",
    "arr.sort()\n",
    "count = 0\n",
    "for i in range(n): \n",
    "    if arr[i] != 0: \n",
    "\n",
    "        # here count is incremented \n",
    "        arr[count] = arr[i] \n",
    "        count+=1\n",
    "while count < n: \n",
    "    arr[count] = 0\n",
    "    count += 1 \n",
    "print(arr)\n",
    "    "
   ]
  },
  {
   "cell_type": "code",
   "execution_count": 15,
   "metadata": {},
   "outputs": [
    {
     "name": "stdout",
     "output_type": "stream",
     "text": [
      "[5, 10, 15, 20, 25, 35, 40, 45, 60, 60, 70, 80]\n"
     ]
    }
   ],
   "source": [
    "#Question2-->list1=[10,20,40,60,70,80]sorted list\n",
    "#list2=[5,15,25,35,45,60]sorted list\n",
    "#Merge these two sorted lists to produce one sorted list,but use only one loop (for/while)\n",
    "\n",
    "list1 = [10,20,40,60,70,80]\n",
    "list2 = [5,15,25,35,45,60]\n",
    "size1 = len(list1)\n",
    "size2 = len(list2)\n",
    "final = []\n",
    "i,j = 0,0\n",
    "while i < size1 and j < size2: \n",
    "    if list1[i] < list2[j]: \n",
    "      final.append(list1[i]) \n",
    "      i += 1\n",
    "  \n",
    "    else: \n",
    "      final.append(list2[j]) \n",
    "      j += 1\n",
    "  \n",
    "final = final + list1[i:] + list2[j:] \n",
    "print(final)"
   ]
  },
  {
   "cell_type": "code",
   "execution_count": null,
   "metadata": {},
   "outputs": [],
   "source": []
  }
 ],
 "metadata": {
  "kernelspec": {
   "display_name": "Python 3",
   "language": "python",
   "name": "python3"
  },
  "language_info": {
   "codemirror_mode": {
    "name": "ipython",
    "version": 3
   },
   "file_extension": ".py",
   "mimetype": "text/x-python",
   "name": "python",
   "nbconvert_exporter": "python",
   "pygments_lexer": "ipython3",
   "version": "3.7.6"
  }
 },
 "nbformat": 4,
 "nbformat_minor": 4
}
