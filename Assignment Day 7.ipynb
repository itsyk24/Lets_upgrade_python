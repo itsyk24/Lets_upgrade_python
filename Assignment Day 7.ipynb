{
 "cells": [
  {
   "cell_type": "code",
   "execution_count": 1,
   "metadata": {},
   "outputs": [],
   "source": [
    "#Question1\n",
    "#use the dictionary\n",
    "#port1 = {21:\"FTP\", 22:\"SSH\",23:\"telnet\", 80:\"http\"},\n",
    "#and make a new dictionary in which keys become values and values become keys"
   ]
  },
  {
   "cell_type": "code",
   "execution_count": 4,
   "metadata": {},
   "outputs": [
    {
     "name": "stdout",
     "output_type": "stream",
     "text": [
      "flipped dictionary is : \n",
      "{'FTP': 21, 'SSH': 22, 'telnet': 23, 'http': 80}\n"
     ]
    }
   ],
   "source": [
    "port1 = {21:\"FTP\", 22:\"SSH\",23:\"telnet\", 80:\"http\"}\n",
    "  \n",
    "new_dict = dict([(value, key) for key, value in port1.items()]) \n",
    " \n",
    "print (\"flipped dictionary is : \") \n",
    "print(new_dict)  "
   ]
  },
  {
   "cell_type": "code",
   "execution_count": 2,
   "metadata": {},
   "outputs": [],
   "source": [
    "#Question2\n",
    "#Take a list of tuples as shown below\n",
    "#[(1,2),(3,4),(5,6),(4,5)]\n",
    "#Take a new list which contains the sum of number of tuples"
   ]
  },
  {
   "cell_type": "code",
   "execution_count": 16,
   "metadata": {},
   "outputs": [
    {
     "name": "stdout",
     "output_type": "stream",
     "text": [
      "[3, 7, 11, 9]\n"
     ]
    }
   ],
   "source": [
    "\n",
    "list1 = [(1,2),(3,4),(5,6),(4,5)]\n",
    "list2 =[x+y for (x,y) in list1]\n",
    "print(list2)\n"
   ]
  },
  {
   "cell_type": "code",
   "execution_count": null,
   "metadata": {},
   "outputs": [],
   "source": []
  },
  {
   "cell_type": "code",
   "execution_count": null,
   "metadata": {},
   "outputs": [],
   "source": []
  }
 ],
 "metadata": {
  "kernelspec": {
   "display_name": "Python 3",
   "language": "python",
   "name": "python3"
  },
  "language_info": {
   "codemirror_mode": {
    "name": "ipython",
    "version": 3
   },
   "file_extension": ".py",
   "mimetype": "text/x-python",
   "name": "python",
   "nbconvert_exporter": "python",
   "pygments_lexer": "ipython3",
   "version": "3.7.6"
  }
 },
 "nbformat": 4,
 "nbformat_minor": 4
}
